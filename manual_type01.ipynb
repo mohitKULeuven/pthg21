{
 "cells": [
  {
   "cell_type": "code",
   "execution_count": 1,
   "id": "optical-fashion",
   "metadata": {},
   "outputs": [],
   "source": [
    "%load_ext autoreload\n",
    "%autoreload 2\n",
    "import numpy as np\n",
    "import json\n",
    "from cpmpy import * # pip3 install cpmpy\n",
    "from cpmpy.solvers import CPM_ortools"
   ]
  },
  {
   "cell_type": "code",
   "execution_count": 2,
   "id": "experimental-assembly",
   "metadata": {},
   "outputs": [],
   "source": [
    "# helper function to enumerate all models, for a list of key variables\n",
    "# with limit\n",
    "def enumerate_all(model, variables, limit=None):\n",
    "    model = CPM_ortools(model) # this speeds up repeated solving\n",
    "    count = 0\n",
    "    while model.solve():\n",
    "        print(variables.value())\n",
    "        model += ~all(variables == variables.value())\n",
    "        if limit is not None:\n",
    "            count += 1\n",
    "            if count > limit:\n",
    "                break"
   ]
  },
  {
   "cell_type": "markdown",
   "id": "unauthorized-english",
   "metadata": {},
   "source": [
    "What I think is the underlying model:"
   ]
  },
  {
   "cell_type": "code",
   "execution_count": 3,
   "id": "divine-community",
   "metadata": {},
   "outputs": [],
   "source": [
    "# returns (model, variables)\n",
    "def manual_type01(size, inputData):\n",
    "    v = intvar(1,size, shape=size)\n",
    "    \n",
    "    m = Model()\n",
    "    \n",
    "    # data_pairs: v[i] != v[j]\n",
    "    for (s,t) in inputData:\n",
    "        m += [v[s] != v[t]]\n",
    "    \n",
    "    # the objective\n",
    "    m.maximize(max(v))\n",
    "\n",
    "    return (m,v)"
   ]
  },
  {
   "cell_type": "code",
   "execution_count": 4,
   "id": "weekly-buddy",
   "metadata": {},
   "outputs": [
    {
     "name": "stdout",
     "output_type": "stream",
     "text": [
      "[ 1  2  1  1  1  2 10  1  1  1]\n",
      "[ 1 10  1  1  1  2  2  1  1  1]\n",
      "[ 1  2  1  1  1  2  1  1 10  1]\n",
      "[ 1  2  1  1  1  2  1  1  2 10]\n",
      "[ 1  2  1  1  1  2  2  1  1 10]\n",
      "[ 1  2  1  1  1  2 10  1  1  2]\n",
      "[ 1  2  1  1  1  2  3  1  1 10]\n",
      "[ 1  2  1  1  1  2 10  1  1  3]\n",
      "[ 1  2  1  1  1  2  4  1  1 10]\n",
      "[ 1  2  1  1  1  2 10  1  1  4]\n",
      "[ 1  2  1  1  1  2  5  1  1 10]\n"
     ]
    }
   ],
   "source": [
    "# lets enumerate a few\n",
    "(m,v) = manual_type01(size=10, inputData=[(1,0), (5,4), (8,6)])\n",
    "enumerate_all(m,v,limit=10)"
   ]
  },
  {
   "cell_type": "code",
   "execution_count": 5,
   "id": "numerical-estate",
   "metadata": {},
   "outputs": [
    {
     "name": "stdout",
     "output_type": "stream",
     "text": [
      "10 [[1, 0], [5, 4], [8, 6]]\n",
      "[ 1  2  1  1  1  2 10  1  1  1]\n",
      "[ 1 10  1  1  1  2  2  1  1  1]\n",
      "[ 1  2  1  1  1  2  1  1 10  1]\n",
      "[ 1  2  1  1  1  2  1  1  2 10]\n",
      "[ 1  2  1  1  1  2  2  1  1 10]\n",
      "[ 1  2  1  1  1  2 10  1  1  2]\n",
      "[ 1  2  1  1  1  2  3  1  1 10]\n",
      "[ 1  2  1  1  1  2 10  1  1  3]\n",
      "[ 1  2  1  1  1  2  4  1  1 10]\n",
      "[ 1  2  1  1  1  2 10  1  1  4]\n",
      "[ 1  2  1  1  1  2  5  1  1 10]\n"
     ]
    }
   ],
   "source": [
    "data = json.load(open('instances/type01/instance0.json'))\n",
    "# some manual work...\n",
    "size = len(data['formatTemplate']['list'])\n",
    "inputData = [list(dd.values()) for dd in data['inputData']['list']]\n",
    "print(size, inputData)\n",
    "(m,v) = manual_type01(size=size, inputData=inputData)\n",
    "enumerate_all(m,v,limit=10)"
   ]
  },
  {
   "cell_type": "code",
   "execution_count": 6,
   "id": "solved-commission",
   "metadata": {},
   "outputs": [
    {
     "name": "stdout",
     "output_type": "stream",
     "text": [
      "11 [[2, 0], [3, 0], [4, 0], [5, 0], [6, 0], [4, 1], [7, 1], [10, 1], [3, 2], [5, 2], [7, 2], [10, 2], [5, 3], [7, 3], [9, 3], [10, 3], [5, 4], [6, 4], [6, 5], [8, 7], [9, 7], [10, 7], [10, 8], [10, 9]]\n",
      "[ 3  1  5  1 11  2  4  2  5  3  4]\n",
      "[ 2  1 11  1  3  4  1  2  3  3  4]\n",
      "[ 2  1  3  1  3 11  1  2  3  3  4]\n",
      "[ 2  1  3  1  4 11  1  2  3  3  4]\n",
      "[ 2  1  3  1  5 11  1  2  3  3  4]\n",
      "[ 2  1  3  1  6 11  1  2  3  3  4]\n",
      "[ 2  1  3  1  7 11  1  2  3  3  4]\n",
      "[ 4  1 11  1  3  2  1  2  3  3  4]\n",
      "[ 1 11  5  4  4  3  2  2  3  3  1]\n",
      "[ 1  4  5  3  3  4  2  2  3 11  1]\n",
      "[ 1 11  5  3  3  4  2  2  3  4  1]\n"
     ]
    }
   ],
   "source": [
    "data = json.load(open('instances/type01/instance1.json'))\n",
    "# some manual work...\n",
    "size = len(data['formatTemplate']['list'])\n",
    "inputData = [list(dd.values()) for dd in data['inputData']['list']]\n",
    "print(size, inputData)\n",
    "(m,v) = manual_type01(size=size, inputData=inputData)\n",
    "enumerate_all(m,v,limit=10)"
   ]
  },
  {
   "cell_type": "markdown",
   "id": "cleared-bacon",
   "metadata": {},
   "source": [
    "Example checking the model\n",
    "...\n",
    "\n",
    "See Type02, but then with also the data preprocessing like above..."
   ]
  },
  {
   "cell_type": "code",
   "execution_count": null,
   "id": "substantial-gossip",
   "metadata": {},
   "outputs": [],
   "source": []
  },
  {
   "cell_type": "markdown",
   "id": "crude-fundamental",
   "metadata": {},
   "source": [
    "Some tests with learned constraints"
   ]
  },
  {
   "cell_type": "code",
   "execution_count": 7,
   "id": "defined-investigator",
   "metadata": {},
   "outputs": [],
   "source": [
    "from learner import *"
   ]
  },
  {
   "cell_type": "code",
   "execution_count": 18,
   "id": "athletic-maximum",
   "metadata": {},
   "outputs": [
    {
     "name": "stdout",
     "output_type": "stream",
     "text": [
      "[8, 1, 7, 9, 8, 3, 3, 3, 10, 7]\n"
     ]
    }
   ],
   "source": [
    "    data = json.load(open('instances/type01/instance0.json'))\n",
    "    size = len(data['formatTemplate']['list'])\n",
    "    inputData = [d['list'] for d in data['tests']]\n",
    "    print(inputData[0])\n",
    "    lb, ub = constraint_learner(inputData[0])"
   ]
  },
  {
   "cell_type": "markdown",
   "id": "elect-chapter",
   "metadata": {},
   "source": [
    "Trains on single example?"
   ]
  },
  {
   "cell_type": "code",
   "execution_count": 15,
   "id": "sharing-european",
   "metadata": {},
   "outputs": [
    {
     "data": {
      "text/plain": [
       "{'x': [x, x],\n",
       " 'Abs(x)': [Abs(x), Abs(x)],\n",
       " 'x**2': [x**2, x**2],\n",
       " 'Mod(x, 2)': [Mod(x, 2), Mod(x, 2)],\n",
       " 'x + y': [x + y, x + y, x + y, x + y],\n",
       " 'x - y': [x - y, x - y, x - y, x - y],\n",
       " '-x + y': [-x + y, -x + y, -x + y, -x + y],\n",
       " 'Abs(x) + Abs(y)': [Abs(x) + Abs(y),\n",
       "  Abs(x) + Abs(y),\n",
       "  Abs(x) + Abs(y),\n",
       "  Abs(x) + Abs(y)],\n",
       " 'Abs(x) - Abs(y)': [Abs(x) - Abs(y),\n",
       "  Abs(x) - Abs(y),\n",
       "  Abs(x) - Abs(y),\n",
       "  Abs(x) - Abs(y)],\n",
       " '-Abs(x) + Abs(y)': [-Abs(x) + Abs(y),\n",
       "  -Abs(x) + Abs(y),\n",
       "  -Abs(x) + Abs(y),\n",
       "  -Abs(x) + Abs(y)],\n",
       " 'x**2 + y**2': [x**2 + y**2, x**2 + y**2, x**2 + y**2, x**2 + y**2],\n",
       " 'x**2 - y**2': [x**2 - y**2, x**2 - y**2, x**2 - y**2, x**2 - y**2],\n",
       " '-x**2 + y**2': [-x**2 + y**2, -x**2 + y**2, -x**2 + y**2, -x**2 + y**2],\n",
       " 'Mod(x, 2) + Mod(y, 2)': [Mod(x, 2) + Mod(y, 2),\n",
       "  Mod(x, 2) + Mod(y, 2),\n",
       "  Mod(x, 2) + Mod(y, 2),\n",
       "  Mod(x, 2) + Mod(y, 2)],\n",
       " 'Mod(x, 2) - Mod(y, 2)': [Mod(x, 2) - Mod(y, 2),\n",
       "  Mod(x, 2) - Mod(y, 2),\n",
       "  Mod(x, 2) - Mod(y, 2),\n",
       "  Mod(x, 2) - Mod(y, 2)],\n",
       " '-Mod(x, 2) + Mod(y, 2)': [-Mod(x, 2) + Mod(y, 2),\n",
       "  -Mod(x, 2) + Mod(y, 2),\n",
       "  -Mod(x, 2) + Mod(y, 2),\n",
       "  -Mod(x, 2) + Mod(y, 2)],\n",
       " '(x + y)': [x + y, x + y, x + y, x + y],\n",
       " '(x - y)': [x - y, x - y, x - y, x - y],\n",
       " '(-x + y)': [-x + y, -x + y, -x + y, -x + y],\n",
       " '(Abs(x) + Abs(y))': [Abs(x) + Abs(y),\n",
       "  Abs(x) + Abs(y),\n",
       "  Abs(x) + Abs(y),\n",
       "  Abs(x) + Abs(y)],\n",
       " '(Abs(x) - Abs(y))': [Abs(x) - Abs(y),\n",
       "  Abs(x) - Abs(y),\n",
       "  Abs(x) - Abs(y),\n",
       "  Abs(x) - Abs(y)],\n",
       " '(-Abs(x) + Abs(y))': [-Abs(x) + Abs(y),\n",
       "  -Abs(x) + Abs(y),\n",
       "  -Abs(x) + Abs(y),\n",
       "  -Abs(x) + Abs(y)],\n",
       " '(x**2 + y**2)': [x**2 + y**2, x**2 + y**2, x**2 + y**2, x**2 + y**2],\n",
       " '(x**2 - y**2)': [x**2 - y**2, x**2 - y**2, x**2 - y**2, x**2 - y**2],\n",
       " '(-x**2 + y**2)': [-x**2 + y**2, -x**2 + y**2, -x**2 + y**2, -x**2 + y**2],\n",
       " '(Mod(x, 2) + Mod(y, 2))': [Mod(x, 2) + Mod(y, 2),\n",
       "  Mod(x, 2) + Mod(y, 2),\n",
       "  Mod(x, 2) + Mod(y, 2),\n",
       "  Mod(x, 2) + Mod(y, 2)],\n",
       " '(Mod(x, 2) - Mod(y, 2))': [Mod(x, 2) - Mod(y, 2),\n",
       "  Mod(x, 2) - Mod(y, 2),\n",
       "  Mod(x, 2) - Mod(y, 2),\n",
       "  Mod(x, 2) - Mod(y, 2)],\n",
       " '(-Mod(x, 2) + Mod(y, 2))': [-Mod(x, 2) + Mod(y, 2),\n",
       "  -Mod(x, 2) + Mod(y, 2),\n",
       "  -Mod(x, 2) + Mod(y, 2),\n",
       "  -Mod(x, 2) + Mod(y, 2)],\n",
       " 'Abs((x + y))': [Abs(x + y), Abs(x + y), Abs(x + y), Abs(x + y)],\n",
       " 'Abs((x - y))': [Abs(x - y), Abs(x - y), Abs(x - y), Abs(x - y)],\n",
       " 'Abs((-x + y))': [Abs(x - y), Abs(x - y), Abs(x - y), Abs(x - y)],\n",
       " 'Abs((Abs(x) + Abs(y)))': [Abs(x) + Abs(y),\n",
       "  Abs(x) + Abs(y),\n",
       "  Abs(x) + Abs(y),\n",
       "  Abs(x) + Abs(y)],\n",
       " 'Abs((Abs(x) - Abs(y)))': [Abs(Abs(x) - Abs(y)),\n",
       "  Abs(Abs(x) - Abs(y)),\n",
       "  Abs(Abs(x) - Abs(y)),\n",
       "  Abs(Abs(x) - Abs(y))],\n",
       " 'Abs((-Abs(x) + Abs(y)))': [Abs(Abs(x) - Abs(y)),\n",
       "  Abs(Abs(x) - Abs(y)),\n",
       "  Abs(Abs(x) - Abs(y)),\n",
       "  Abs(Abs(x) - Abs(y))],\n",
       " 'Abs((x**2 + y**2))': [Abs(x**2 + y**2),\n",
       "  Abs(x**2 + y**2),\n",
       "  Abs(x**2 + y**2),\n",
       "  Abs(x**2 + y**2)],\n",
       " 'Abs((x**2 - y**2))': [Abs(x**2 - y**2),\n",
       "  Abs(x**2 - y**2),\n",
       "  Abs(x**2 - y**2),\n",
       "  Abs(x**2 - y**2)],\n",
       " 'Abs((-x**2 + y**2))': [Abs(x**2 - y**2),\n",
       "  Abs(x**2 - y**2),\n",
       "  Abs(x**2 - y**2),\n",
       "  Abs(x**2 - y**2)],\n",
       " 'Abs((Mod(x, 2) + Mod(y, 2)))': [Mod(x, 2) + Mod(y, 2),\n",
       "  Mod(x, 2) + Mod(y, 2),\n",
       "  Mod(x, 2) + Mod(y, 2),\n",
       "  Mod(x, 2) + Mod(y, 2)],\n",
       " 'Abs((Mod(x, 2) - Mod(y, 2)))': [Abs(Mod(x, 2) - Mod(y, 2)),\n",
       "  Abs(Mod(x, 2) - Mod(y, 2)),\n",
       "  Abs(Mod(x, 2) - Mod(y, 2)),\n",
       "  Abs(Mod(x, 2) - Mod(y, 2))],\n",
       " 'Abs((-Mod(x, 2) + Mod(y, 2)))': [Abs(Mod(x, 2) - Mod(y, 2)),\n",
       "  Abs(Mod(x, 2) - Mod(y, 2)),\n",
       "  Abs(Mod(x, 2) - Mod(y, 2)),\n",
       "  Abs(Mod(x, 2) - Mod(y, 2))],\n",
       " '(x + y)**2': [(x + y)**2, (x + y)**2, (x + y)**2, (x + y)**2],\n",
       " '(x - y)**2': [(x - y)**2, (x - y)**2, (x - y)**2, (x - y)**2],\n",
       " '(-x + y)**2': [(-x + y)**2, (-x + y)**2, (-x + y)**2, (-x + y)**2],\n",
       " '(Abs(x) + Abs(y))**2': [(Abs(x) + Abs(y))**2,\n",
       "  (Abs(x) + Abs(y))**2,\n",
       "  (Abs(x) + Abs(y))**2,\n",
       "  (Abs(x) + Abs(y))**2],\n",
       " '(Abs(x) - Abs(y))**2': [(Abs(x) - Abs(y))**2,\n",
       "  (Abs(x) - Abs(y))**2,\n",
       "  (Abs(x) - Abs(y))**2,\n",
       "  (Abs(x) - Abs(y))**2],\n",
       " '(-Abs(x) + Abs(y))**2': [(-Abs(x) + Abs(y))**2,\n",
       "  (-Abs(x) + Abs(y))**2,\n",
       "  (-Abs(x) + Abs(y))**2,\n",
       "  (-Abs(x) + Abs(y))**2],\n",
       " '(x**2 + y**2)**2': [(x**2 + y**2)**2,\n",
       "  (x**2 + y**2)**2,\n",
       "  (x**2 + y**2)**2,\n",
       "  (x**2 + y**2)**2],\n",
       " '(x**2 - y**2)**2': [(x**2 - y**2)**2,\n",
       "  (x**2 - y**2)**2,\n",
       "  (x**2 - y**2)**2,\n",
       "  (x**2 - y**2)**2],\n",
       " '(-x**2 + y**2)**2': [(-x**2 + y**2)**2,\n",
       "  (-x**2 + y**2)**2,\n",
       "  (-x**2 + y**2)**2,\n",
       "  (-x**2 + y**2)**2],\n",
       " '(Mod(x, 2) + Mod(y, 2))**2': [(Mod(x, 2) + Mod(y, 2))**2,\n",
       "  (Mod(x, 2) + Mod(y, 2))**2,\n",
       "  (Mod(x, 2) + Mod(y, 2))**2,\n",
       "  (Mod(x, 2) + Mod(y, 2))**2],\n",
       " '(Mod(x, 2) - Mod(y, 2))**2': [(Mod(x, 2) - Mod(y, 2))**2,\n",
       "  (Mod(x, 2) - Mod(y, 2))**2,\n",
       "  (Mod(x, 2) - Mod(y, 2))**2,\n",
       "  (Mod(x, 2) - Mod(y, 2))**2],\n",
       " '(-Mod(x, 2) + Mod(y, 2))**2': [(-Mod(x, 2) + Mod(y, 2))**2,\n",
       "  (-Mod(x, 2) + Mod(y, 2))**2,\n",
       "  (-Mod(x, 2) + Mod(y, 2))**2,\n",
       "  (-Mod(x, 2) + Mod(y, 2))**2],\n",
       " 'Mod((x + y), 2)': [Mod(x + y, 2),\n",
       "  Mod(x + y, 2),\n",
       "  Mod(x + y, 2),\n",
       "  Mod(x + y, 2)],\n",
       " 'Mod((x - y), 2)': [Mod(x - y, 2),\n",
       "  Mod(x - y, 2),\n",
       "  Mod(x - y, 2),\n",
       "  Mod(x - y, 2)],\n",
       " 'Mod((-x + y), 2)': [Mod(-x + y, 2),\n",
       "  Mod(-x + y, 2),\n",
       "  Mod(-x + y, 2),\n",
       "  Mod(-x + y, 2)],\n",
       " 'Mod((Abs(x) + Abs(y)), 2)': [Mod(Abs(x) + Abs(y), 2),\n",
       "  Mod(Abs(x) + Abs(y), 2),\n",
       "  Mod(Abs(x) + Abs(y), 2),\n",
       "  Mod(Abs(x) + Abs(y), 2)],\n",
       " 'Mod((Abs(x) - Abs(y)), 2)': [Mod(Abs(x) - Abs(y), 2),\n",
       "  Mod(Abs(x) - Abs(y), 2),\n",
       "  Mod(Abs(x) - Abs(y), 2),\n",
       "  Mod(Abs(x) - Abs(y), 2)],\n",
       " 'Mod((-Abs(x) + Abs(y)), 2)': [Mod(-Abs(x) + Abs(y), 2),\n",
       "  Mod(-Abs(x) + Abs(y), 2),\n",
       "  Mod(-Abs(x) + Abs(y), 2),\n",
       "  Mod(-Abs(x) + Abs(y), 2)],\n",
       " 'Mod((x**2 + y**2), 2)': [Mod(x**2 + y**2, 2),\n",
       "  Mod(x**2 + y**2, 2),\n",
       "  Mod(x**2 + y**2, 2),\n",
       "  Mod(x**2 + y**2, 2)],\n",
       " 'Mod((x**2 - y**2), 2)': [Mod(x**2 - y**2, 2),\n",
       "  Mod(x**2 - y**2, 2),\n",
       "  Mod(x**2 - y**2, 2),\n",
       "  Mod(x**2 - y**2, 2)],\n",
       " 'Mod((-x**2 + y**2), 2)': [Mod(-x**2 + y**2, 2),\n",
       "  Mod(-x**2 + y**2, 2),\n",
       "  Mod(-x**2 + y**2, 2),\n",
       "  Mod(-x**2 + y**2, 2)],\n",
       " 'Mod((Mod(x, 2) + Mod(y, 2)), 2)': [Mod(x + y, 2),\n",
       "  Mod(x + y, 2),\n",
       "  Mod(x + y, 2),\n",
       "  Mod(x + y, 2)],\n",
       " 'Mod((Mod(x, 2) - Mod(y, 2)), 2)': [Mod(x + y, 2),\n",
       "  Mod(x + y, 2),\n",
       "  Mod(x + y, 2),\n",
       "  Mod(x + y, 2)],\n",
       " 'Mod((-Mod(x, 2) + Mod(y, 2)), 2)': [Mod(x + y, 2),\n",
       "  Mod(x + y, 2),\n",
       "  Mod(x + y, 2),\n",
       "  Mod(x + y, 2)]}"
      ]
     },
     "execution_count": 15,
     "metadata": {},
     "output_type": "execute_result"
    }
   ],
   "source": [
    "lb, ub = constraint_learner(inputData[0:2])\n",
    "lb"
   ]
  },
  {
   "cell_type": "markdown",
   "id": "architectural-cover",
   "metadata": {},
   "source": [
    "Does not work...\n",
    "\n",
    "I would have expected it to take a numpy array of examples and to operate on the columns:"
   ]
  },
  {
   "cell_type": "code",
   "execution_count": 36,
   "id": "numerous-preference",
   "metadata": {},
   "outputs": [
    {
     "data": {
      "text/plain": [
       "array([[ 4,  5,  2, ...,  7,  4,  7],\n",
       "       [ 3,  8,  4, ...,  6,  5,  5],\n",
       "       [ 1,  8,  9, ...,  3,  5, 10],\n",
       "       ...,\n",
       "       [ 4,  8, 10, ...,  7,  1,  9],\n",
       "       [ 3,  4, 10, ...,  5,  3, 10],\n",
       "       [ 1,  9,  9, ...,  7,  1,  3]])"
      ]
     },
     "execution_count": 36,
     "metadata": {},
     "output_type": "execute_result"
    }
   ],
   "source": [
    "sols = np.array([d['list'] for d in data['solutions']])\n",
    "objs = np.array([[d['objective']] for d in data['solutions']]) # vertical, watch the []s\n",
    "sols"
   ]
  },
  {
   "cell_type": "code",
   "execution_count": 38,
   "id": "third-projector",
   "metadata": {},
   "outputs": [
    {
     "data": {
      "text/plain": [
       "(1000, 10)"
      ]
     },
     "execution_count": 38,
     "metadata": {},
     "output_type": "execute_result"
    }
   ],
   "source": [
    "sols.shape"
   ]
  },
  {
   "cell_type": "code",
   "execution_count": 52,
   "id": "featured-physiology",
   "metadata": {},
   "outputs": [
    {
     "name": "stdout",
     "output_type": "stream",
     "text": [
      "x\n",
      "Abs(x)\n",
      "x**2\n",
      "Mod(x, 2)\n",
      "x\n",
      "Abs(x)\n",
      "x**2\n",
      "Mod(x, 2)\n"
     ]
    }
   ],
   "source": [
    "import sympy\n",
    "sols = np.array([d['list'] for d in data['solutions']])\n",
    "# try to reconstruct some of Mohit's\n",
    "\n",
    "x, y = symbols('x y')\n",
    "n_vars = sols.shape[1] # only works for lists... TODO\n",
    "learned = dict() # key=str(expr) val = {(vars): (lb,ub)}\n",
    "for expr in generate_unary_exp(x):\n",
    "    learned[str(expr)] = dict()\n",
    "    print(expr)\n",
    "    for i in range(n_vars):\n",
    "        #print(sols[:,i])\n",
    "        #print(expr.subs({x: sols[:,i]})) # does not work\n",
    "        # Use sympy.lambdify() method\n",
    "        f = sympy.lambdify(x, expr, \"math\")\n",
    "        vals = f(sols[:,i])\n",
    "        learned[str(expr)][(i)] = (min(vals), max(vals))\n",
    "\n",
    "learned"
   ]
  },
  {
   "cell_type": "code",
   "execution_count": 78,
   "id": "grave-holmes",
   "metadata": {},
   "outputs": [
    {
     "name": "stdout",
     "output_type": "stream",
     "text": [
      "Constraints:\n",
      "    [IV253 >= 1, IV253 <= 10]\n",
      "    [IV254 >= 1, IV254 <= 10]\n",
      "    [IV255 >= 1, IV255 <= 10]\n",
      "    [IV256 >= 1, IV256 <= 10]\n",
      "    [IV257 >= 1, IV257 <= 10]\n",
      "    [IV258 >= 1, IV258 <= 10]\n",
      "    [IV259 >= 1, IV259 <= 10]\n",
      "    [IV260 >= 1, IV260 <= 10]\n",
      "    [IV261 >= 1, IV261 <= 10]\n",
      "    [IV262 >= 1, IV262 <= 10]\n",
      "    [IV253 >= 1, IV253 <= 10]\n",
      "    [IV254 >= 1, IV254 <= 10]\n",
      "    [IV255 >= 1, IV255 <= 10]\n",
      "    [IV256 >= 1, IV256 <= 10]\n",
      "    [IV257 >= 1, IV257 <= 10]\n",
      "    [IV258 >= 1, IV258 <= 10]\n",
      "    [IV259 >= 1, IV259 <= 10]\n",
      "    [IV260 >= 1, IV260 <= 10]\n",
      "    [IV261 >= 1, IV261 <= 10]\n",
      "    [IV262 >= 1, IV262 <= 10]\n",
      "    [(IV253) mod 2 >= 0, (IV253) mod 2 <= 1]\n",
      "    [(IV254) mod 2 >= 0, (IV254) mod 2 <= 1]\n",
      "    [(IV255) mod 2 >= 0, (IV255) mod 2 <= 1]\n",
      "    [(IV256) mod 2 >= 0, (IV256) mod 2 <= 1]\n",
      "    [(IV257) mod 2 >= 0, (IV257) mod 2 <= 1]\n",
      "    [(IV258) mod 2 >= 0, (IV258) mod 2 <= 1]\n",
      "    [(IV259) mod 2 >= 0, (IV259) mod 2 <= 1]\n",
      "    [(IV260) mod 2 >= 0, (IV260) mod 2 <= 1]\n",
      "    [(IV261) mod 2 >= 0, (IV261) mod 2 <= 1]\n",
      "    [(IV262) mod 2 >= 0, (IV262) mod 2 <= 1]\n",
      "Objective: None\n",
      "ExitStatus.OPTIMAL (0.001271033 seconds)\n"
     ]
    },
    {
     "data": {
      "text/plain": [
       "array([1, 1, 1, 1, 1, 1, 1, 1, 1, 1])"
      ]
     },
     "execution_count": 78,
     "metadata": {},
     "output_type": "execute_result"
    }
   ],
   "source": [
    "cpvars = []\n",
    "for vdict in data['formatTemplate']['list']:\n",
    "    # {'high': 10, 'low': 1, 'type': 'dvar'}\n",
    "    cpvars.append(intvar(vdict['low'],vdict['high']))\n",
    "cpvars = cpm_array(cpvars) # make it a CPM/Numpy array\n",
    "\n",
    "m = Model()\n",
    "for expr,inst in learned.items():\n",
    "    for i, (lb,ub) in inst.items():\n",
    "        # why is lambdify doing 'pow' instead of **?\n",
    "        if \"**\" not in expr:\n",
    "            e = sympy.sympify(expr)\n",
    "            #cpm_e = e.subs({x: cpvars[i]})\n",
    "            f = sympy.lambdify(x, e, \"math\") # not sure about the 'x' part here : /\n",
    "            cpm_e = f(cpvars[i])\n",
    "            m += [cpm_e >= lb, cpm_e <= ub]\n",
    "print(m)\n",
    "m.solve()\n",
    "print(m.status())\n",
    "cpvars.value()"
   ]
  },
  {
   "cell_type": "code",
   "execution_count": 68,
   "id": "wooden-request",
   "metadata": {},
   "outputs": [
    {
     "data": {
      "text/plain": [
       "[IV137 >= 1]"
      ]
     },
     "execution_count": 68,
     "metadata": {},
     "output_type": "execute_result"
    }
   ],
   "source": [
    "[1 <= intvar(0,2)]"
   ]
  },
  {
   "cell_type": "code",
   "execution_count": 65,
   "id": "legitimate-breakdown",
   "metadata": {},
   "outputs": [
    {
     "data": {
      "text/plain": [
       "Constraints:\n",
       "    [True, IV114 <= 10]\n",
       "    [True, IV115 <= 10]\n",
       "    [True, IV116 <= 10]\n",
       "    [True, IV117 <= 10]\n",
       "    [True, IV118 <= 10]\n",
       "    [True, IV119 <= 10]\n",
       "    [True, IV120 <= 10]\n",
       "    [True, IV121 <= 10]\n",
       "    [True, IV122 <= 10]\n",
       "    [True, IV123 <= 10]\n",
       "    [True, IV114 <= 10]\n",
       "    [True, IV115 <= 10]\n",
       "    [True, IV116 <= 10]\n",
       "    [True, IV117 <= 10]\n",
       "    [True, IV118 <= 10]\n",
       "    [True, IV119 <= 10]\n",
       "    [True, IV120 <= 10]\n",
       "    [True, IV121 <= 10]\n",
       "    [True, IV122 <= 10]\n",
       "    [True, IV123 <= 10]\n",
       "    [True, (IV114) pow 2 <= 100]\n",
       "    [True, (IV115) pow 2 <= 100]\n",
       "    [True, (IV116) pow 2 <= 100]\n",
       "    [True, (IV117) pow 2 <= 100]\n",
       "    [True, (IV118) pow 2 <= 100]\n",
       "    [True, (IV119) pow 2 <= 100]\n",
       "    [True, (IV120) pow 2 <= 100]\n",
       "    [True, (IV121) pow 2 <= 100]\n",
       "    [True, (IV122) pow 2 <= 100]\n",
       "    [True, (IV123) pow 2 <= 100]\n",
       "    [True, (IV114) mod 2 <= 1]\n",
       "    [True, (IV115) mod 2 <= 1]\n",
       "    [True, (IV116) mod 2 <= 1]\n",
       "    [True, (IV117) mod 2 <= 1]\n",
       "    [True, (IV118) mod 2 <= 1]\n",
       "    [True, (IV119) mod 2 <= 1]\n",
       "    [True, (IV120) mod 2 <= 1]\n",
       "    [True, (IV121) mod 2 <= 1]\n",
       "    [True, (IV122) mod 2 <= 1]\n",
       "    [True, (IV123) mod 2 <= 1]\n",
       "    [IV125 >= 0]\n",
       "Objective: None"
      ]
     },
     "execution_count": 65,
     "metadata": {},
     "output_type": "execute_result"
    }
   ],
   "source": [
    "m"
   ]
  },
  {
   "cell_type": "code",
   "execution_count": null,
   "id": "aggressive-offering",
   "metadata": {},
   "outputs": [],
   "source": []
  }
 ],
 "metadata": {
  "kernelspec": {
   "display_name": "Python 3",
   "language": "python",
   "name": "python3"
  },
  "language_info": {
   "codemirror_mode": {
    "name": "ipython",
    "version": 3
   },
   "file_extension": ".py",
   "mimetype": "text/x-python",
   "name": "python",
   "nbconvert_exporter": "python",
   "pygments_lexer": "ipython3",
   "version": "3.9.2"
  }
 },
 "nbformat": 4,
 "nbformat_minor": 5
}
