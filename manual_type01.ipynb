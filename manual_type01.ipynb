{
 "cells": [
  {
   "cell_type": "code",
   "execution_count": 4,
   "id": "optical-fashion",
   "metadata": {},
   "outputs": [],
   "source": [
    "%load_ext autoreload\n",
    "%autoreload 2\n",
    "import numpy as np\n",
    "import json\n",
    "from cpmpy import * # pip3 install cpmpy\n",
    "from cpmpy.solvers import CPM_ortools"
   ]
  },
  {
   "cell_type": "code",
   "execution_count": 14,
   "id": "experimental-assembly",
   "metadata": {},
   "outputs": [],
   "source": [
    "# helper function to enumerate all models, for a list of key variables\n",
    "# with limit\n",
    "def enumerate_all(model, variables, limit=None):\n",
    "    model = CPM_ortools(model) # this speeds up repeated solving\n",
    "    count = 0\n",
    "    while model.solve():\n",
    "        print(variables.value())\n",
    "        model += ~all(variables == variables.value())\n",
    "        if limit is not None:\n",
    "            count += 1\n",
    "            if count > limit:\n",
    "                break"
   ]
  },
  {
   "cell_type": "markdown",
   "id": "unauthorized-english",
   "metadata": {},
   "source": [
    "What I think is the underlying model:"
   ]
  },
  {
   "cell_type": "code",
   "execution_count": 28,
   "id": "divine-community",
   "metadata": {},
   "outputs": [],
   "source": [
    "# returns (model, variables)\n",
    "def manual_type01(size, inputData):\n",
    "    v = intvar(1,size, shape=size)\n",
    "    \n",
    "    m = Model()\n",
    "    \n",
    "    # data_pairs: v[i] != v[j]\n",
    "    for (s,t) in inputData:\n",
    "        m += [v[s] != v[t]]\n",
    "    \n",
    "    # OK, only variables used are used by CPMpy, so add some void constraint over all\n",
    "    m += sum(v) >= 0\n",
    "\n",
    "    return (m,v)"
   ]
  },
  {
   "cell_type": "code",
   "execution_count": 29,
   "id": "weekly-buddy",
   "metadata": {},
   "outputs": [
    {
     "name": "stdout",
     "output_type": "stream",
     "text": [
      "[1 2 1 1 1 2 1 1 2 1]\n",
      "[2 3 1 1 2 3 2 1 3 1]\n",
      "[3 4 1 1 3 4 3 1 4 1]\n",
      "[4 5 1 1 4 5 4 1 5 1]\n",
      "[5 6 1 1 5 6 5 1 6 1]\n",
      "[5 6 1 2 5 6 5 1 6 1]\n",
      "[5 6 1 3 5 6 5 1 6 1]\n",
      "[5 6 1 4 5 6 5 1 6 1]\n",
      "[5 6 1 5 5 6 5 1 6 1]\n",
      "[5 6 1 6 5 6 5 1 6 1]\n",
      "[5 6 1 7 5 6 5 1 6 1]\n"
     ]
    }
   ],
   "source": [
    "# lets enumerate a few\n",
    "(m,v) = manual_type01(size=10, inputData=[(1,0), (5,4), (8,6)])\n",
    "enumerate_all(m,v,limit=10)"
   ]
  },
  {
   "cell_type": "code",
   "execution_count": 33,
   "id": "numerical-estate",
   "metadata": {},
   "outputs": [
    {
     "name": "stdout",
     "output_type": "stream",
     "text": [
      "10 [[1, 0], [5, 4], [8, 6]]\n",
      "[1 2 1 1 1 2 1 1 2 1]\n",
      "[2 3 1 1 2 3 2 1 3 1]\n",
      "[3 4 1 1 3 4 3 1 4 1]\n",
      "[4 5 1 1 4 5 4 1 5 1]\n",
      "[5 6 1 1 5 6 5 1 6 1]\n",
      "[5 6 1 2 5 6 5 1 6 1]\n",
      "[5 6 1 3 5 6 5 1 6 1]\n",
      "[5 6 1 4 5 6 5 1 6 1]\n",
      "[5 6 1 5 5 6 5 1 6 1]\n",
      "[5 6 1 6 5 6 5 1 6 1]\n",
      "[5 6 1 7 5 6 5 1 6 1]\n"
     ]
    }
   ],
   "source": [
    "data = json.load(open('instances/type01/instance0.json'))\n",
    "# some manual work...\n",
    "size = len(data['formatTemplate']['list'])\n",
    "inputData = [list(dd.values()) for dd in data['inputData']['list']]\n",
    "print(size, inputData)\n",
    "(m,v) = manual_type01(size=size, inputData=inputData)\n",
    "enumerate_all(m,v,limit=10)"
   ]
  },
  {
   "cell_type": "code",
   "execution_count": 34,
   "id": "solved-commission",
   "metadata": {},
   "outputs": [
    {
     "name": "stdout",
     "output_type": "stream",
     "text": [
      "11 [[2, 0], [3, 0], [4, 0], [5, 0], [6, 0], [4, 1], [7, 1], [10, 1], [3, 2], [5, 2], [7, 2], [10, 2], [5, 3], [7, 3], [9, 3], [10, 3], [5, 4], [6, 4], [6, 5], [8, 7], [9, 7], [10, 7], [10, 8], [10, 9]]\n",
      "[2 1 1 3 3 4 5 2 3 4 5]\n",
      "[3 1 6 1 4 5 6 2 3 3 4]\n",
      "[3 1 6 1 4 5 7 2 3 3 4]\n",
      "[3 1 6 1 4 5 8 2 3 3 4]\n",
      "[3 1 6 1 4 5 9 2 3 3 4]\n",
      "[3 1 5 1 4 6 5 2 3 3 4]\n",
      "[3 1 7 1 4 6 5 2 3 3 4]\n",
      "[3 1 8 1 4 6 5 2 3 3 4]\n",
      "[3 1 9 1 4 6 5 2 3 3 4]\n",
      "[ 3  1 10  1  4  6  5  2  3  3  4]\n",
      "[ 3  1 11  1  4  6  5  2  3  3  4]\n"
     ]
    }
   ],
   "source": [
    "data = json.load(open('instances/type01/instance1.json'))\n",
    "# some manual work...\n",
    "size = len(data['formatTemplate']['list'])\n",
    "inputData = [list(dd.values()) for dd in data['inputData']['list']]\n",
    "print(size, inputData)\n",
    "(m,v) = manual_type01(size=size, inputData=inputData)\n",
    "enumerate_all(m,v,limit=10)"
   ]
  },
  {
   "cell_type": "markdown",
   "id": "cleared-bacon",
   "metadata": {},
   "source": [
    "Example checking the model\n",
    "...\n",
    "\n",
    "See Type02, but then with also the data preprocessing like above..."
   ]
  },
  {
   "cell_type": "code",
   "execution_count": null,
   "id": "substantial-gossip",
   "metadata": {},
   "outputs": [],
   "source": []
  }
 ],
 "metadata": {
  "kernelspec": {
   "display_name": "Python 3",
   "language": "python",
   "name": "python3"
  },
  "language_info": {
   "codemirror_mode": {
    "name": "ipython",
    "version": 3
   },
   "file_extension": ".py",
   "mimetype": "text/x-python",
   "name": "python",
   "nbconvert_exporter": "python",
   "pygments_lexer": "ipython3",
   "version": "3.9.2"
  }
 },
 "nbformat": 4,
 "nbformat_minor": 5
}
