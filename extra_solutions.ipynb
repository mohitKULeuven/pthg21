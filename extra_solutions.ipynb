{
 "cells": [
  {
   "cell_type": "code",
   "execution_count": 12,
   "id": "frank-start",
   "metadata": {},
   "outputs": [],
   "source": [
    "%load_ext autoreload\n",
    "%autoreload 2\n",
    "from experiments import *\n",
    "from cpmpy import *"
   ]
  },
  {
   "cell_type": "code",
   "execution_count": 13,
   "id": "representative-compound",
   "metadata": {},
   "outputs": [],
   "source": [
    "#instance_level(1)"
   ]
  },
  {
   "cell_type": "code",
   "execution_count": 14,
   "id": "owned-strap",
   "metadata": {},
   "outputs": [
    {
     "name": "stdout",
     "output_type": "stream",
     "text": [
      "instances/type01/instance0.json\n",
      "instances/type01/instance1.json\n",
      "instances/type01/instance2.json\n",
      "instances/type01/instance3.json\n",
      "instances/type01/instance4.json\n",
      "instances/type01/instance5.json\n",
      "instances/type01/instance6.json\n",
      "instances/type01/instance7.json\n",
      "instances/type01/instance8.json\n",
      "instances/type01/instance9.json\n"
     ]
    }
   ],
   "source": [
    "# above but in cell\n",
    "t=1\n",
    "\n",
    "path = f\"instances/type{t:02d}/inst*.json\"\n",
    "files = sorted(glob.glob(path))\n",
    "instances = []\n",
    "for file in files:\n",
    "    print(file)\n",
    "    with open(file) as f:\n",
    "        instances.append(Instance(int(file.split(\"/\")[-1].split(\".\")[0][8:]), json.load(f), t))"
   ]
  },
  {
   "cell_type": "code",
   "execution_count": 15,
   "id": "periodic-measurement",
   "metadata": {},
   "outputs": [
    {
     "name": "stdout",
     "output_type": "stream",
     "text": [
      "Constraints:\n",
      "    [[abs([(list[6]) + (-(list[8]))]) >= 1], [abs([(list[4]) + (-(list[5]))]) >= 1], [abs([(list[0]) + (-(list[1]))]) >= 1]]\n",
      "Objective: None [list[0], list[1], list[2], list[3], list[4], list[5], list[6], list[7], list[8], list[9]] {'all_constraints': 9, 'reduced_constraints': 3}\n",
      "100.0 100.0\n"
     ]
    }
   ],
   "source": [
    "# Learn propositional models and check their quality\n",
    "#for i, instance in enumerate(instances):\n",
    "i = 0\n",
    "instance = instances[0]\n",
    "assert(instance.has_solutions())\n",
    "\n",
    "m, m_vars, _, stats = instance.learn_model(propositional=True)\n",
    "print(m, m_vars, stats)\n",
    "#pickle_var[files[i]] = [m, m_vars]\n",
    "percentage_pos, percentage_neg = instance.check(m, m_vars)\n",
    "print(percentage_pos, percentage_neg)\n",
    "#tests_classification = instance.test(m, m_vars)\n",
    "#print(tests_classification)\n",
    "#save_results_json(instance.problem_type, instance.number, tests_classification)\n"
   ]
  },
  {
   "cell_type": "code",
   "execution_count": 16,
   "id": "dietary-zoning",
   "metadata": {},
   "outputs": [
    {
     "data": {
      "text/plain": [
       "[2, 1, 10, 7, 2, 1, 2, 8, 1, 4]"
      ]
     },
     "execution_count": 16,
     "metadata": {},
     "output_type": "execute_result"
    }
   ],
   "source": [
    "m.solve()\n",
    "[x.value() for x in m_vars]\n",
    "# !?? what did you do with m_vars... you created new ones in filter_redundant()!! fixed that"
   ]
  },
  {
   "cell_type": "code",
   "execution_count": 17,
   "id": "christian-boating",
   "metadata": {},
   "outputs": [],
   "source": [
    "all_data = np.vstack(\n",
    "    [instance.flatten_data(instance.pos_data), instance.flatten_data(instance.neg_data),\n",
    "     instance.flatten_data(instance.test_data)])"
   ]
  },
  {
   "cell_type": "code",
   "execution_count": 18,
   "id": "generous-chocolate",
   "metadata": {},
   "outputs": [
    {
     "name": "stdout",
     "output_type": "stream",
     "text": [
      "[7, 6, 8, 7, 6, 3, 3, 4, 8, 10]\n",
      "[7, 6, 8, 7, 6, 3, 3, 4, 8, 9]\n",
      "[7, 6, 8, 7, 6, 3, 4, 4, 8, 9]\n"
     ]
    },
    {
     "data": {
      "text/plain": [
       "[[7, 6, 8, 7, 6, 3, 3, 4, 8, 10],\n",
       " [7, 6, 8, 7, 6, 3, 3, 4, 8, 9],\n",
       " [7, 6, 8, 7, 6, 3, 4, 4, 8, 9]]"
      ]
     },
     "execution_count": 18,
     "metadata": {},
     "output_type": "execute_result"
    }
   ],
   "source": [
    "extra_solutions(m, cpmpy.cpm_array(m_vars), all_data)"
   ]
  },
  {
   "cell_type": "code",
   "execution_count": 19,
   "id": "rolled-livestock",
   "metadata": {},
   "outputs": [
    {
     "name": "stdout",
     "output_type": "stream",
     "text": [
      "Constraints:\n",
      "    [[abs([(list[6]) + (-(list[8]))]) >= 1], [abs([(list[4]) + (-(list[5]))]) >= 1], [abs([(list[0]) + (-(list[1]))]) >= 1]]\n",
      "Objective: None\n",
      "True\n"
     ]
    },
    {
     "data": {
      "text/plain": [
       "array([2, 1, 8, 7, 2, 1, 2, 4, 1, 9])"
      ]
     },
     "execution_count": 19,
     "metadata": {},
     "output_type": "execute_result"
    }
   ],
   "source": [
    "# break down of 'extra_solutions'\n",
    "existing_sol = all_data\n",
    "m_vars = cpm_array(m_vars)\n",
    "\n",
    "m2 = cpmpy.Model([c for c in m.constraints])\n",
    "print(m2)\n",
    "print(m2.solve()) # not sure why this is needed\n",
    "m_vars.value()"
   ]
  },
  {
   "cell_type": "code",
   "execution_count": 20,
   "id": "listed-killer",
   "metadata": {},
   "outputs": [
    {
     "data": {
      "text/plain": [
       "array([2, 1, 2, 1, 2, 1])"
      ]
     },
     "execution_count": 20,
     "metadata": {},
     "output_type": "execute_result"
    }
   ],
   "source": [
    "from cpmpy.transformations.get_variables import get_variables\n",
    "vs = get_variables(m2.constraints)\n",
    "cpm_array(vs).value()"
   ]
  },
  {
   "cell_type": "code",
   "execution_count": 21,
   "id": "quiet-friend",
   "metadata": {},
   "outputs": [
    {
     "name": "stdout",
     "output_type": "stream",
     "text": [
      "2500\n"
     ]
    },
    {
     "data": {
      "text/plain": [
       "True"
      ]
     },
     "execution_count": 21,
     "metadata": {},
     "output_type": "execute_result"
    }
   ],
   "source": [
    "print(len(existing_sol))\n",
    "for sol in existing_sol:\n",
    "    # this would better be a negative table constraint...\n",
    "    m2 += ~cpmpy.all(m_vars == sol)\n",
    "m2.solve()"
   ]
  },
  {
   "cell_type": "code",
   "execution_count": 32,
   "id": "incorporate-donor",
   "metadata": {},
   "outputs": [
    {
     "name": "stdout",
     "output_type": "stream",
     "text": [
      "[ 1  4  7  1  4 10  4  6 10  5]\n",
      "[5 6 4 6 3 9 4 4 3 1]\n",
      "[5 6 7 9 7 6 3 5 4 1]\n",
      "[ 5  6 10 10  7  6  4  7  3  7]\n",
      "[3 5 9 1 7 6 4 7 5 5]\n",
      "[ 4  5 10  1  5  3  3  7  4  1]\n",
      "[1 2 7 1 8 3 8 1 9 5]\n",
      "[3 5 7 1 3 1 2 1 3 1]\n",
      "[ 6  5 10  1  7  4  6  1  5  1]\n",
      "[ 7  8 10  1  4  3  1  4  2  7]\n",
      "[4 3 9 1 8 9 2 4 3 7]\n",
      "[ 4  2  9  1  8  9 10  4  9  7]\n",
      "[8 4 9 1 7 9 2 4 1 7]\n",
      "[8 4 9 1 2 1 2 4 1 7]\n",
      "[8 4 9 1 8 9 3 4 2 7]\n",
      "[8 4 9 1 2 4 3 4 2 7]\n",
      "[ 8  4  9  1 10  9  3  4  2  7]\n",
      "[ 8  4  9  1 10  9  3  4  1  7]\n",
      "[ 8  4  9  1 10  9  9  4 10  7]\n",
      "[ 8  4  9  1 10  9  8  4 10  7]\n",
      "Got 20 alternative solutiosn\n"
     ]
    }
   ],
   "source": [
    "# Faster, new style (work in progress)\n",
    "from cpmpy_helper import *\n",
    "from cpmpy.solvers import CPM_ortools\n",
    "s2 = CPM_ortools(m2)\n",
    "\n",
    "collector = []\n",
    "def myprint():\n",
    "    print(m_vars.value())\n",
    "    collector.append(m_vars.value())\n",
    "solveAll(s2, display=myprint, solution_limit=20)\n",
    "\n",
    "print(\"Got\", len(collector), \"alternative solutiosn\")"
   ]
  },
  {
   "cell_type": "code",
   "execution_count": null,
   "id": "determined-brain",
   "metadata": {},
   "outputs": [],
   "source": [
    "existing_sol[0]"
   ]
  },
  {
   "cell_type": "code",
   "execution_count": null,
   "id": "talented-ottawa",
   "metadata": {},
   "outputs": [],
   "source": []
  }
 ],
 "metadata": {
  "kernelspec": {
   "display_name": "Python 3",
   "language": "python",
   "name": "python3"
  },
  "language_info": {
   "codemirror_mode": {
    "name": "ipython",
    "version": 3
   },
   "file_extension": ".py",
   "mimetype": "text/x-python",
   "name": "python",
   "nbconvert_exporter": "python",
   "pygments_lexer": "ipython3",
   "version": "3.9.2"
  }
 },
 "nbformat": 4,
 "nbformat_minor": 5
}
