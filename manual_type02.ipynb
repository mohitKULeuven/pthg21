{
 "cells": [
  {
   "cell_type": "code",
   "execution_count": 28,
   "id": "optical-fashion",
   "metadata": {},
   "outputs": [
    {
     "name": "stdout",
     "output_type": "stream",
     "text": [
      "The autoreload extension is already loaded. To reload it, use:\n",
      "  %reload_ext autoreload\n"
     ]
    }
   ],
   "source": [
    "%load_ext autoreload\n",
    "%autoreload 2\n",
    "import numpy as np\n",
    "import json\n",
    "from cpmpy import * # pip3 install cpmpy\n",
    "from cpmpy.solvers import CPM_ortools"
   ]
  },
  {
   "cell_type": "code",
   "execution_count": 33,
   "id": "experimental-assembly",
   "metadata": {},
   "outputs": [],
   "source": [
    "# helper function to enumerate all models, for a list of key variables\n",
    "def enumerate_all(model, variables):\n",
    "    model = CPM_ortools(model) # this speeds up repeated solving\n",
    "    while model.solve():\n",
    "        print(variables.value())\n",
    "        model += ~all(variables == variables.value())"
   ]
  },
  {
   "cell_type": "markdown",
   "id": "unauthorized-english",
   "metadata": {},
   "source": [
    "What I think is the underlying model:"
   ]
  },
  {
   "cell_type": "code",
   "execution_count": 34,
   "id": "divine-community",
   "metadata": {},
   "outputs": [],
   "source": [
    "# returns (model, variables)\n",
    "def manual_type02(size=7):\n",
    "    v = intvar(1,size, shape=size)\n",
    "    \n",
    "    m = Model()\n",
    "    \n",
    "    # all_pairs: v[i] != v[j]\n",
    "    m += AllDifferent(v)\n",
    "    \n",
    "    # subsequent_pairs: abs(diff(v[i],v[j])) >= 2\n",
    "    for i in range(1,len(v)):\n",
    "        m += abs(v[i-1] - v[i]) >= 2\n",
    "\n",
    "    return (m,v)"
   ]
  },
  {
   "cell_type": "code",
   "execution_count": 35,
   "id": "weekly-buddy",
   "metadata": {},
   "outputs": [
    {
     "name": "stdout",
     "output_type": "stream",
     "text": [
      "[2 4 1 3]\n",
      "[3 1 4 2]\n"
     ]
    }
   ],
   "source": [
    "# lets enumerate a few\n",
    "(m,v) = manual_type02(size=4)\n",
    "enumerate_all(m,v)"
   ]
  },
  {
   "cell_type": "markdown",
   "id": "cleared-bacon",
   "metadata": {},
   "source": [
    "Example checking the model"
   ]
  },
  {
   "cell_type": "code",
   "execution_count": 46,
   "id": "latter-runner",
   "metadata": {},
   "outputs": [],
   "source": [
    "# returns % correctly true\n",
    "def check_solutions(m, sols, verbose=False):\n",
    "    # are there any solutions given?\n",
    "    if len(sols) == 0:\n",
    "        print(\"No solutions to check\")\n",
    "        return 1.0\n",
    "        \n",
    "    sats = []\n",
    "    for sol in sols:\n",
    "        sol = sol['list']\n",
    "        m2 = Model([c for c in m.constraints]) # euh, CPMpy needs a model.copy()...\n",
    "        m2 += (v == sol)\n",
    "        sat = m2.solve()\n",
    "        sats.append(sat)\n",
    "        \n",
    "        if verbose:\n",
    "            if sat:\n",
    "                print(f\"Sol {sol} indeed satisfies\")\n",
    "            else:\n",
    "                print(f\"!!! Sol {sol} does not satisfy after all\")\n",
    "    return sum(sats)/len(sats)\n",
    "        \n",
    "        \n",
    "    if m2.solve():\n",
    "        print(f\"Sol {sol} indeed satisfies\")\n",
    "    else:\n",
    "        print(f\"Sol {sol} does not satisfy after all\")"
   ]
  },
  {
   "cell_type": "code",
   "execution_count": 47,
   "id": "annual-rhythm",
   "metadata": {},
   "outputs": [
    {
     "name": "stdout",
     "output_type": "stream",
     "text": [
      "Sol [3, 1, 4, 2] indeed satisfies\n",
      "Sol [2, 4, 1, 3] indeed satisfies\n"
     ]
    },
    {
     "data": {
      "text/plain": [
       "1.0"
      ]
     },
     "execution_count": 47,
     "metadata": {},
     "output_type": "execute_result"
    }
   ],
   "source": [
    "data = json.load(open('instances/type02/instance0.json'))\n",
    "(m,v) = manual_type02(size=data['size'])\n",
    "check_solutions(m, data['solutions'], verbose=True)"
   ]
  },
  {
   "cell_type": "code",
   "execution_count": 48,
   "id": "accepting-forward",
   "metadata": {},
   "outputs": [
    {
     "data": {
      "text/plain": [
       "1.0"
      ]
     },
     "execution_count": 48,
     "metadata": {},
     "output_type": "execute_result"
    }
   ],
   "source": [
    "data = json.load(open('instances/type02/instance7.json'))\n",
    "(m,v) = manual_type02(size=data['size'])\n",
    "check_solutions(m, data['solutions'])"
   ]
  },
  {
   "cell_type": "code",
   "execution_count": 49,
   "id": "secondary-receipt",
   "metadata": {},
   "outputs": [
    {
     "name": "stdout",
     "output_type": "stream",
     "text": [
      "No solutions to check\n"
     ]
    },
    {
     "data": {
      "text/plain": [
       "1.0"
      ]
     },
     "execution_count": 49,
     "metadata": {},
     "output_type": "execute_result"
    }
   ],
   "source": [
    "data = json.load(open('instances/type02/instance9.json'))\n",
    "(m,v) = manual_type02(size=data['size'])\n",
    "check_solutions(m, data['solutions'])"
   ]
  },
  {
   "cell_type": "code",
   "execution_count": 59,
   "id": "varying-morocco",
   "metadata": {},
   "outputs": [],
   "source": [
    "# returns % correctly false\n",
    "def check_nonsolutions(m, sols, verbose=False):\n",
    "    # are there any solutions given?\n",
    "    if len(sols) == 0:\n",
    "        print(\"No solutions to check\")\n",
    "        return 1.0\n",
    "        \n",
    "    sats = []\n",
    "    for sol in sols:\n",
    "        sol = sol['list']\n",
    "        m2 = Model([c for c in m.constraints]) # euh, CPMpy needs a model.copy()...\n",
    "        m2 += (v == sol)\n",
    "        sat = m2.solve()\n",
    "        sats.append(sat)\n",
    "        \n",
    "        if verbose:\n",
    "            if sat:\n",
    "                print(f\"!!! non-sol {sol} does satisfies\")\n",
    "            else:\n",
    "                pass\n",
    "                #print(f\"non-sol {sol} indeed does not satisfy\")\n",
    "    \n",
    "    # return % correct unsat!!\n",
    "    return (1- sum(sats)/len(sats))"
   ]
  },
  {
   "cell_type": "code",
   "execution_count": 60,
   "id": "focal-release",
   "metadata": {},
   "outputs": [
    {
     "data": {
      "text/plain": [
       "1.0"
      ]
     },
     "execution_count": 60,
     "metadata": {},
     "output_type": "execute_result"
    }
   ],
   "source": [
    "data = json.load(open('instances/type02/instance0.json'))\n",
    "(m,v) = manual_type02(size=data['size'])\n",
    "check_nonsolutions(m, data['nonSolutions'], verbose=True)"
   ]
  },
  {
   "cell_type": "code",
   "execution_count": 61,
   "id": "flexible-float",
   "metadata": {},
   "outputs": [
    {
     "data": {
      "text/plain": [
       "0.998"
      ]
     },
     "execution_count": 61,
     "metadata": {},
     "output_type": "execute_result"
    }
   ],
   "source": [
    "data = json.load(open('instances/type02/instance7.json'))\n",
    "(m,v) = manual_type02(size=data['size'])\n",
    "check_nonsolutions(m, data['nonSolutions'])"
   ]
  },
  {
   "cell_type": "markdown",
   "id": "unsigned-international",
   "metadata": {},
   "source": [
    "# OK, curious... one is SAT?"
   ]
  },
  {
   "cell_type": "code",
   "execution_count": 62,
   "id": "checked-proceeding",
   "metadata": {},
   "outputs": [
    {
     "name": "stdout",
     "output_type": "stream",
     "text": [
      "!!! non-sol [7, 5, 3, 1, 10, 2, 6, 4, 8, 11, 9] does satisfies\n",
      "!!! non-sol [9, 2, 6, 8, 3, 1, 10, 4, 11, 7, 5] does satisfies\n"
     ]
    },
    {
     "data": {
      "text/plain": [
       "0.998"
      ]
     },
     "execution_count": 62,
     "metadata": {},
     "output_type": "execute_result"
    }
   ],
   "source": [
    "check_nonsolutions(m, data['nonSolutions'], verbose=True)"
   ]
  },
  {
   "cell_type": "markdown",
   "id": "dirty-excellence",
   "metadata": {},
   "source": [
    "Weird... did they make a mistake, or did we overlook something?"
   ]
  },
  {
   "cell_type": "code",
   "execution_count": 66,
   "id": "heavy-turning",
   "metadata": {},
   "outputs": [
    {
     "name": "stdout",
     "output_type": "stream",
     "text": [
      "instances/type02/instance0.json 1.0\n",
      "instances/type02/instance1.json 1.0\n",
      "instances/type02/instance2.json 1.0\n",
      "instances/type02/instance3.json 1.0\n",
      "instances/type02/instance4.json 0.990909090909091\n",
      "instances/type02/instance5.json 1.0\n",
      "instances/type02/instance6.json 0.999\n",
      "instances/type02/instance7.json 0.998\n",
      "No solutions to check\n",
      "instances/type02/instance8.json 1.0\n",
      "No solutions to check\n",
      "instances/type02/instance9.json 1.0\n"
     ]
    }
   ],
   "source": [
    "import glob\n",
    "files = glob.glob(\"instances/type02/instance*.json\")\n",
    "\n",
    "for file in sorted(files):\n",
    "    data = json.load(open(file))\n",
    "    (m,v) = manual_type02(size=data['size'])\n",
    "    print(file, check_nonsolutions(m, data['nonSolutions']))"
   ]
  },
  {
   "cell_type": "markdown",
   "id": "sitting-riding",
   "metadata": {},
   "source": [
    "OK, so there are either some rare cases which they got wrong, or I missed some exceptional detail..."
   ]
  },
  {
   "cell_type": "code",
   "execution_count": null,
   "id": "personal-statistics",
   "metadata": {},
   "outputs": [],
   "source": []
  }
 ],
 "metadata": {
  "kernelspec": {
   "display_name": "Python 3",
   "language": "python",
   "name": "python3"
  },
  "language_info": {
   "codemirror_mode": {
    "name": "ipython",
    "version": 3
   },
   "file_extension": ".py",
   "mimetype": "text/x-python",
   "name": "python",
   "nbconvert_exporter": "python",
   "pygments_lexer": "ipython3",
   "version": "3.9.2"
  }
 },
 "nbformat": 4,
 "nbformat_minor": 5
}
