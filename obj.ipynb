{
 "cells": [
  {
   "cell_type": "code",
   "execution_count": 3,
   "id": "optical-fashion",
   "metadata": {},
   "outputs": [
    {
     "name": "stdout",
     "output_type": "stream",
     "text": [
      "The autoreload extension is already loaded. To reload it, use:\n",
      "  %reload_ext autoreload\n"
     ]
    }
   ],
   "source": [
    "%load_ext autoreload\n",
    "%autoreload 2\n",
    "import numpy as np\n",
    "import json\n",
    "import glob\n",
    "from cpmpy import * # pip3 install cpmpy\n",
    "from cpmpy.solvers import CPM_ortools"
   ]
  },
  {
   "cell_type": "code",
   "execution_count": 35,
   "id": "referenced-broad",
   "metadata": {},
   "outputs": [
    {
     "name": "stdout",
     "output_type": "stream",
     "text": [
      "instances/type01/instance4.json [(14,), ()] obj input \n",
      "\n",
      "instances/type02/instance6.json [(10,)]   size\n",
      "\n",
      "instances/type03/instance0.json [(3,), (9,), ()] obj input \n",
      "\n",
      "instances/type04/instance0.json [(4,), ()] obj  size\n",
      "\n",
      "instances/type05/instance8.json [(9, 9)]  input \n",
      "\n",
      "instances/type06/instance0.json [(4, 4)]   size\n",
      "\n",
      "instances/type07/instance10.json [(13,)]   size\n",
      "\n",
      "instances/type08/instance1.json [(5,)]   size\n",
      "\n",
      "instances/type10/instance2.json [(4, 4)]   size\n",
      "\n",
      "instances/type11/instance0.json [(3, 3), (3, 3)]   size\n",
      "\n",
      "instances/type12/instance4.json [(7, 14)]  input \n",
      "\n",
      "instances/type13/instance5.json [(7,)]   size\n",
      "\n",
      "instances/type14/instance7.json [(11,)]   size\n",
      "\n",
      "instances/type15/instance3.json [(7,)]   size\n",
      "\n",
      "instances/type16/instance7.json [(11,)]   size\n",
      "\n"
     ]
    }
   ],
   "source": [
    "for t in range(1,17):\n",
    "    if t == 9:\n",
    "        continue # missing\n",
    "    patt = f\"instances/type{t:02d}/inst*.json\"\n",
    "    files = glob.glob(patt)\n",
    "    for file in files:\n",
    "        data = json.load(open(file))\n",
    "        if len(data['solutions']):\n",
    "            shapes = []\n",
    "            has_obj = False\n",
    "            has_input = 'inputData' in data\n",
    "            has_size = 'size' in data\n",
    "            for (k,v) in data['solutions'][0].items():\n",
    "                shapes.append(np.array(v).shape)\n",
    "                #print(v, shapes)\n",
    "                if k == 'objective':\n",
    "                    has_obj = True\n",
    "            print(file, shapes, \"obj\" if has_obj else \"\", \"input\" if has_input else \"\", \"size\" if has_size else \"\")\n",
    "            break\n",
    "    print(\"\") # new type"
   ]
  },
  {
   "cell_type": "code",
   "execution_count": 4,
   "id": "committed-distributor",
   "metadata": {},
   "outputs": [
    {
     "name": "stdout",
     "output_type": "stream",
     "text": [
      "0 9\n"
     ]
    }
   ],
   "source": [
    "# test triviality check\n",
    "from cpmpy import *\n",
    "from cpmpy.transformations.flatten_model import get_or_make_var\n",
    "\n",
    "iv = intvar(0,9, shape=2)\n",
    "expr = abs(iv[0] - iv[1])\n",
    "\n",
    "(v,_) = get_or_make_var(expr)\n",
    "(lb,ub) = (v.lb, v.ub)\n",
    "print (lb,ub)"
   ]
  },
  {
   "cell_type": "code",
   "execution_count": null,
   "id": "labeled-blackberry",
   "metadata": {},
   "outputs": [],
   "source": []
  }
 ],
 "metadata": {
  "kernelspec": {
   "display_name": "Python 3",
   "language": "python",
   "name": "python3"
  },
  "language_info": {
   "codemirror_mode": {
    "name": "ipython",
    "version": 3
   },
   "file_extension": ".py",
   "mimetype": "text/x-python",
   "name": "python",
   "nbconvert_exporter": "python",
   "pygments_lexer": "ipython3",
   "version": "3.9.2"
  }
 },
 "nbformat": 4,
 "nbformat_minor": 5
}
